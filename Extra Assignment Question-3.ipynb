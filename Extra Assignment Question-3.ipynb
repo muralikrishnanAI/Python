{
 "cells": [
  {
   "cell_type": "code",
   "execution_count": 1,
   "metadata": {},
   "outputs": [
    {
     "name": "stdout",
     "output_type": "stream",
     "text": [
      "value: 10\n",
      "Corret\n"
     ]
    }
   ],
   "source": [
    "# print 'CORRECT' if i == 10\n",
    "a = int(input(\"value: \"))\n",
    "if (a == 10):\n",
    " print(\"Corret\")\n",
    "else:\n",
    " print(\"wrong\")"
   ]
  },
  {
   "cell_type": "code",
   "execution_count": 3,
   "metadata": {},
   "outputs": [
    {
     "name": "stdout",
     "output_type": "stream",
     "text": [
      "Enter the password: HOPE@123\n",
      "Your password is correct\n"
     ]
    }
   ],
   "source": [
    "# Check the password, using if and else\n",
    "password = input(\"Enter the password: \")\n",
    "if(password == \"HOPE@123\" ):\n",
    " print(\"Your password is correct\")\n",
    "else:\n",
    " print(\"Your password is wrong, check your password\")"
   ]
  },
  {
   "cell_type": "code",
   "execution_count": 4,
   "metadata": {},
   "outputs": [
    {
     "name": "stdout",
     "output_type": "stream",
     "text": [
      "age: 20\n",
      "Adult\n"
     ]
    }
   ],
   "source": [
    "# Catagory the people by their age like children, adult, citizen, senior citizen...\n",
    "num = int(input(\"age: \"))\n",
    "if (num <= 18):\n",
    " print(\"Children\")\n",
    "elif (num <= 35):\n",
    " print(\"Adult\")\n",
    "elif (num <= 60):\n",
    " print(\"Citizen\")\n",
    "else:\n",
    " print(\"senior citizen\")"
   ]
  },
  {
   "cell_type": "code",
   "execution_count": 5,
   "metadata": {},
   "outputs": [
    {
     "name": "stdout",
     "output_type": "stream",
     "text": [
      "Enter any number:1\n",
      "Number is positive\n"
     ]
    }
   ],
   "source": [
    "# Find whether given number is positive or negative\n",
    "n = int(input(\"Enter any number:\"))\n",
    "if n>0:\n",
    " print(\"Number is positive\")\n",
    "elif n<0:\n",
    " print(\"Number is negative\")\n",
    "else:\n",
    " print(\"Zero\")"
   ]
  },
  {
   "cell_type": "code",
   "execution_count": 6,
   "metadata": {},
   "outputs": [
    {
     "name": "stdout",
     "output_type": "stream",
     "text": [
      "Enter a number to check:22\n",
      "Number is not divisible by 5\n"
     ]
    }
   ],
   "source": [
    "# Check whether the given number is divisible by 5\n",
    "n = int(input(\"Enter a number to check:\"))\n",
    "if n%5==0:\n",
    " print(\"Number is divisible by 5\")\n",
    "else:\n",
    " print(\"Number is not divisible by 5\")"
   ]
  }
 ],
 "metadata": {
  "kernelspec": {
   "display_name": "Python 3",
   "language": "python",
   "name": "python3"
  },
  "language_info": {
   "codemirror_mode": {
    "name": "ipython",
    "version": 3
   },
   "file_extension": ".py",
   "mimetype": "text/x-python",
   "name": "python",
   "nbconvert_exporter": "python",
   "pygments_lexer": "ipython3",
   "version": "3.7.4"
  }
 },
 "nbformat": 4,
 "nbformat_minor": 2
}
